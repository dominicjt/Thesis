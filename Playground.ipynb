{
 "cells": [
  {
   "cell_type": "code",
   "execution_count": 1,
   "id": "d56b9a97-5626-416d-91ef-e276a760bc07",
   "metadata": {},
   "outputs": [],
   "source": [
    "# Load the memory profiler\n",
    "%load_ext memory_profiler\n",
    "import numpy as np\n",
    "from inverseDesign import kgrid\n",
    "from defineCrystal import L3Crystal \n",
    "from legume.primitives import fmap\n",
    "import legume\n",
    "import autograd.numpy as npa\n",
    "from autograd import grad, value_and_grad\n",
    "from inverseDesign import placeParams\n",
    "legume.set_backend('autograd')\n",
    "import time"
   ]
  },
  {
   "cell_type": "code",
   "execution_count": 2,
   "id": "ee537125-d704-48ab-8f3d-3f8ca06c530f",
   "metadata": {},
   "outputs": [],
   "source": [
    "def gme_simple(dx,gmax, options, kpoints, f_lb=0):\n",
    "    phc = L3Crystal(dx=dx,Nx=Nx,Ny=Ny,dslab=.5,n_slab=12.04,ra=.25)\n",
    "    options['compute_im'] = False\n",
    "    gme = legume.GuidedModeExp(phc, gmax=gmax)\n",
    "    gme.run(kpoints=kpoints, **options)\n",
    "    indmode = npa.nonzero(gme.freqs[0, :] > f_lb)[0][0]\n",
    "    fims = []\n",
    "    for ik in range(kpoints[0, :].size):\n",
    "        (freq_im, _, _) = gme.compute_rad(ik, [indmode])\n",
    "        fims.append(freq_im)\n",
    "    return (gme, npa.array(fims), indmode)"
   ]
  },
  {
   "cell_type": "code",
   "execution_count": 3,
   "id": "bd1b4dac-b581-46d0-8a5f-d2015d3c0a4e",
   "metadata": {},
   "outputs": [],
   "source": [
    "options = {'verbose': False, 'gradients': 'approx',\n",
    "           'numeig': 5,       # get 5 eigenvalues\n",
    "           'eig_sigma': 0.26,  # closest to f = 0.28\n",
    "           'eig_solver': 'eigsh',\n",
    "           'compute_im': False\n",
    "          }\n",
    "\n",
    "pstart = [0.0,0.0]\n",
    "dx = {(0,2):0,(0,-2):0}\n",
    "gmax = 1\n",
    "Nx = 20; Ny = 10\n",
    "ks = kgrid(Nx=Nx,Ny=Ny)"
   ]
  },
  {
   "cell_type": "code",
   "execution_count": 4,
   "id": "4662a41b-41ce-4405-967d-a1463ed54585",
   "metadata": {},
   "outputs": [],
   "source": [
    "def fim_kavg(params):\n",
    "    dx,dy,dr = placeParams(params,dx={(0,2):0,(0,-2):0})\n",
    "    (gme, fims, _) = gme_simple(dx, gmax, options, ks)\n",
    "    # Scale for easier readability\n",
    "    return npa.mean(fims)*1e6\n",
    "\n",
    "def of_kavg_fmap(params):\n",
    "    # A function factory to make a list of functions for every k-point\n",
    "    def fim_factory(ik):\n",
    "        def fim(params):\n",
    "            dx,dy,dr = placeParams(params,dx={(0,2):0,(0,-2):0})\n",
    "            (gme, freq_im, _) = gme_simple(dx,gmax,options,np.array([[ks[0,ik]],[ks[1,ik]]]))\n",
    "            return freq_im\n",
    "        return fim\n",
    "\n",
    "    fims = fmap([fim_factory(ik=ik) for ik in range(ks[0].size)],params)\n",
    "    return npa.mean(fims)*1e6"
   ]
  },
  {
   "cell_type": "code",
   "execution_count": 7,
   "id": "0ef9b1a3-dfec-4ad6-86c0-ba4a00aa6958",
   "metadata": {},
   "outputs": [
    {
     "name": "stdout",
     "output_type": "stream",
     "text": [
      "peak memory: 1016.12 MiB, increment: 849.52 MiB\n",
      "3.262972831726074 0.13196128236048973 [array(-6.80898115e-05), array(6.80898115e-05)]\n"
     ]
    }
   ],
   "source": [
    "obj_grad = value_and_grad(fim_kavg)\n",
    "\n",
    "t = time.time()\n",
    "%memit (fim, grad_a) = obj_grad(pstart)\n",
    "print(time.time() - t,fim,grad_a)"
   ]
  },
  {
   "cell_type": "code",
   "execution_count": 5,
   "id": "3ec9d7c1-ae25-4cd1-a54d-11db0a35e2fb",
   "metadata": {},
   "outputs": [
    {
     "name": "stdout",
     "output_type": "stream",
     "text": [
      "peak memory: 690.52 MiB, increment: 525.22 MiB\n",
      "6.419666051864624 0.13196128236048973 [-6.61839132e-05  6.61839132e-05]\n"
     ]
    }
   ],
   "source": [
    "obj_grad = value_and_grad(of_kavg_fmap)\n",
    "\n",
    "t = time.time()\n",
    "%memit (fim, grad_a) = obj_grad(pstart)\n",
    "print(time.time() - t,fim,grad_a)"
   ]
  },
  {
   "cell_type": "code",
   "execution_count": null,
   "id": "f7cb68b0-9ab0-48e5-b8a5-30ce04240833",
   "metadata": {},
   "outputs": [],
   "source": []
  }
 ],
 "metadata": {
  "kernelspec": {
   "display_name": "Python 3 (ipykernel)",
   "language": "python",
   "name": "python3"
  },
  "language_info": {
   "codemirror_mode": {
    "name": "ipython",
    "version": 3
   },
   "file_extension": ".py",
   "mimetype": "text/x-python",
   "name": "python",
   "nbconvert_exporter": "python",
   "pygments_lexer": "ipython3",
   "version": "3.11.5"
  }
 },
 "nbformat": 4,
 "nbformat_minor": 5
}
